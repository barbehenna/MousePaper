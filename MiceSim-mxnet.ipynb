{
 "cells": [
  {
   "cell_type": "code",
   "execution_count": null,
   "metadata": {},
   "outputs": [],
   "source": [
    "from mxnet import nd\n",
    "import numpy as np\n",
    "import matplotlib.pyplot as plt"
   ]
  },
  {
   "cell_type": "code",
   "execution_count": null,
   "metadata": {},
   "outputs": [],
   "source": [
    "ts = 2\n",
    "cr = 1.1\n",
    "border = 3\n",
    "density = 1000\n",
    "ndays = 4\n",
    "grid = 16 # 8 squares\n",
    "\n",
    "fs = (grid-1)*ts + 2*border\n",
    "nmice = round(fs*fs*density)\n",
    "nmice"
   ]
  },
  {
   "cell_type": "code",
   "execution_count": null,
   "metadata": {},
   "outputs": [],
   "source": [
    "nmice = 8"
   ]
  },
  {
   "cell_type": "code",
   "execution_count": null,
   "metadata": {
    "scrolled": true
   },
   "outputs": [],
   "source": [
    "traps = nd.stack(nd.repeat(nd.arange(start=-7.5, stop=8.5), repeats=grid),\n",
    "                nd.tile(nd.arange(start=-7.5, stop=8.5), reps=grid))\n",
    "traps = nd.transpose(traps)\n",
    "traps = traps*ts # traps = nd.multiply(traps, ts) needed for context?"
   ]
  },
  {
   "cell_type": "code",
   "execution_count": null,
   "metadata": {},
   "outputs": [],
   "source": [
    "mhomes = nd.random.uniform(low=-fs/2, high=fs/2, shape=(nmice,2)) # mice x xy\n",
    "# mhomes"
   ]
  },
  {
   "cell_type": "code",
   "execution_count": null,
   "metadata": {},
   "outputs": [],
   "source": [
    "forages = nd.random.normal(loc=0, scale=1, shape=(ndays,nmice,2)) # day x mice x xy\n",
    "forages.shape\n",
    "# forages"
   ]
  },
  {
   "cell_type": "code",
   "execution_count": null,
   "metadata": {},
   "outputs": [],
   "source": [
    "forages = forages + mhomes\n",
    "# forages"
   ]
  },
  {
   "cell_type": "code",
   "execution_count": null,
   "metadata": {},
   "outputs": [],
   "source": [
    "# mouse 1 \n",
    "forages[:,0,:]"
   ]
  },
  {
   "cell_type": "code",
   "execution_count": null,
   "metadata": {},
   "outputs": [],
   "source": [
    "traps = traps.reshape(grid**2, 1, 1, 2)\n",
    "traps.shape\n",
    "#traps"
   ]
  },
  {
   "cell_type": "code",
   "execution_count": null,
   "metadata": {},
   "outputs": [],
   "source": [
    "dist = nd.sqrt(nd.sum((traps - forages)**2, axis=3)) # trap x day x mouse\n",
    "# dist"
   ]
  },
  {
   "cell_type": "code",
   "execution_count": null,
   "metadata": {},
   "outputs": [],
   "source": [
    "dist"
   ]
  },
  {
   "cell_type": "code",
   "execution_count": null,
   "metadata": {},
   "outputs": [],
   "source": []
  },
  {
   "cell_type": "code",
   "execution_count": null,
   "metadata": {},
   "outputs": [],
   "source": []
  },
  {
   "cell_type": "code",
   "execution_count": null,
   "metadata": {},
   "outputs": [],
   "source": []
  },
  {
   "cell_type": "code",
   "execution_count": null,
   "metadata": {},
   "outputs": [],
   "source": []
  },
  {
   "cell_type": "code",
   "execution_count": null,
   "metadata": {},
   "outputs": [],
   "source": []
  },
  {
   "cell_type": "code",
   "execution_count": null,
   "metadata": {},
   "outputs": [],
   "source": [
    "import torch\n",
    "import matplotlib.pyplot as plt\n",
    "\n",
    "torch.manual_seed(0)"
   ]
  },
  {
   "cell_type": "code",
   "execution_count": null,
   "metadata": {},
   "outputs": [],
   "source": [
    "ts = 2\n",
    "cr = 1.1\n",
    "border = 3\n",
    "density = 1000\n",
    "ndays = 4\n",
    "grid = 16 # 8 squares\n",
    "\n",
    "fs = (grid-1)*ts + 2*border\n",
    "nmice = round(fs*fs*density)\n",
    "nmice"
   ]
  },
  {
   "cell_type": "code",
   "execution_count": null,
   "metadata": {},
   "outputs": [],
   "source": [
    "traps_torch = torch.stack((torch.linspace(-7.5, 7.5, grid).repeat_interleave(grid), \n",
    "                           torch.linspace(-7.5, 7.5, grid).repeat([grid])))\n",
    "traps_torch = traps_torch.t()\n",
    "traps_torch = traps_torch*ts\n",
    "# traps_torch"
   ]
  },
  {
   "cell_type": "code",
   "execution_count": null,
   "metadata": {},
   "outputs": [],
   "source": [
    "mhomes_torch = torch.empty(nmice,2)\n",
    "mhomes_torch.uniform_(-fs/2, fs/2) # inplace rng\n",
    "print(mhomes_torch.shape)\n",
    "forages_torch = torch.normal(mean=torch.zeros(ndays,nmice,2), std=1) \n",
    "print(forages_torch.shape)\n",
    "forages_torch = forages_torch + mhomes_torch\n",
    "print(forages_torch.shape)"
   ]
  },
  {
   "cell_type": "code",
   "execution_count": null,
   "metadata": {},
   "outputs": [],
   "source": [
    "traps_torch = traps_torch.reshape(grid**2, 1, 1, 2)\n",
    "traps_torch.shape"
   ]
  },
  {
   "cell_type": "code",
   "execution_count": null,
   "metadata": {},
   "outputs": [],
   "source": [
    "print((traps_torch - forages_torch).shape)\n",
    "dist_torch = (traps_torch - forages_torch).pow(2).sum(dim=3).sqrt()\n",
    "print(dist_torch.shape)"
   ]
  },
  {
   "cell_type": "code",
   "execution_count": null,
   "metadata": {},
   "outputs": [],
   "source": [
    "values, indices = dist_torch.min(dim=0)\n",
    "# print(values)\n",
    "# print(indices)"
   ]
  },
  {
   "cell_type": "code",
   "execution_count": null,
   "metadata": {},
   "outputs": [],
   "source": [
    "caught_mice = (values<cr).any(dim=0)\n",
    "# caught_mice"
   ]
  },
  {
   "cell_type": "code",
   "execution_count": null,
   "metadata": {},
   "outputs": [],
   "source": [
    "# Torch's argmax returns the last instance of the max value, not the first (like numpy). \n",
    "# Fortunately our simulations/distances are symmetric in time, so we can we can just look \n",
    "# reverse the day order and it SHOULD be the same. \n",
    "caught_days = (values[:,caught_mice]<cr).argmax(dim=0)\n",
    "# caught_days\n",
    "\n",
    "# indices[caught_days,caught_mice]"
   ]
  },
  {
   "cell_type": "code",
   "execution_count": null,
   "metadata": {},
   "outputs": [],
   "source": [
    "# The (3 - day) is to reverse time to keep it consistent with our intuition \n",
    "idxs = (3 - caught_days)*grid*grid + indices[caught_days,caught_mice]\n",
    "idxs"
   ]
  },
  {
   "cell_type": "code",
   "execution_count": null,
   "metadata": {},
   "outputs": [],
   "source": [
    "traplayers_torch = torch.zeros(ndays,grid*grid)\n",
    "traplayers_torch.put_(idxs, torch.tensor([1.]).expand_as(idxs), accumulate=True)\n",
    "traplayers_torch = traplayers_torch.reshape(ndays, grid, grid)"
   ]
  },
  {
   "cell_type": "code",
   "execution_count": null,
   "metadata": {},
   "outputs": [],
   "source": [
    "fig, axes = plt.subplots(2, 2) # row first\n",
    "axes[0,0].imshow(traplayers_torch[0,:,:]) \n",
    "axes[0,1].imshow(traplayers_torch[1,:,:])\n",
    "axes[1,0].imshow(traplayers_torch[2,:,:])\n",
    "axes[1,1].imshow(traplayers_torch[3,:,:])\n",
    "\n",
    "plt.show()"
   ]
  },
  {
   "cell_type": "code",
   "execution_count": null,
   "metadata": {},
   "outputs": [],
   "source": [
    "plt.imshow(traplayers_torch.sum(dim=0))"
   ]
  },
  {
   "cell_type": "code",
   "execution_count": null,
   "metadata": {},
   "outputs": [],
   "source": []
  },
  {
   "cell_type": "code",
   "execution_count": null,
   "metadata": {},
   "outputs": [],
   "source": []
  },
  {
   "cell_type": "code",
   "execution_count": null,
   "metadata": {},
   "outputs": [],
   "source": []
  },
  {
   "cell_type": "markdown",
   "metadata": {},
   "source": [
    "Many image simulations\n",
    "\n",
    "Start by generating the distance matrix with mxnet (for the gpu) then use pytorch to reduce it to the final image."
   ]
  },
  {
   "cell_type": "code",
   "execution_count": null,
   "metadata": {},
   "outputs": [],
   "source": [
    "from mxnet import nd\n",
    "import mxnet as mx\n",
    "import torch\n",
    "import matplotlib.pyplot as plt\n",
    "\n",
    "torch.manual_seed(0)\n",
    "mx.random.seed(0)\n",
    "\n",
    "torch.set_num_threads(11)"
   ]
  },
  {
   "cell_type": "code",
   "execution_count": null,
   "metadata": {},
   "outputs": [],
   "source": [
    "numsim = 100000\n",
    "\n",
    "trapspacing = torch.FloatTensor(numsim,).uniform_(0.1,5)\n",
    "catchradius = torch.FloatTensor(numsim,).uniform_(0.1,5)\n",
    "density = torch.FloatTensor(numsim,).uniform_(0.25,10)\n",
    "border = 3\n",
    "numdays = 4\n",
    "grid = 16 # 8 squares\n",
    "\n",
    "fieldsize = (grid-1)*trapspacing + 2*border\n",
    "nummice = (fieldsize*fieldsize*density).round()\n",
    "# nmice"
   ]
  },
  {
   "cell_type": "code",
   "execution_count": null,
   "metadata": {},
   "outputs": [],
   "source": [
    "def gendistmat_torch(nmice, ts, fs, ndays=4, grid=16):\n",
    "    traps_torch = torch.stack((torch.linspace(-7.5, 7.5, grid).repeat_interleave(grid), \n",
    "                               torch.linspace(-7.5, 7.5, grid).repeat([grid])))\n",
    "    traps_torch = traps_torch.t()\n",
    "    traps_torch = traps_torch*ts\n",
    "    traps_torch = traps_torch.reshape(grid**2, 1, 1, 2)\n",
    "\n",
    "    mhomes_torch = torch.empty(nmice,2)\n",
    "    mhomes_torch.uniform_(-fs/2, fs/2) # inplace rng\n",
    "    forages_torch = torch.normal(mean=torch.zeros(ndays,nmice,2), std=1) \n",
    "    forages_torch = forages_torch + mhomes_torch\n",
    "\n",
    "    dist_torch = (traps_torch - forages_torch).pow(2).sum(dim=3).sqrt()\n",
    "\n",
    "    return dist_torch"
   ]
  },
  {
   "cell_type": "code",
   "execution_count": null,
   "metadata": {},
   "outputs": [],
   "source": [
    "# Seems to have an overflow issue if nmice = 1000000 fine if nmice = 100000\n",
    "def gendistmat_nd(nmice, ts, fs, ctx, ndays=4, grid=16):\n",
    "    # start by generating the traps\n",
    "    traps = nd.stack(nd.repeat(nd.arange(start=-7.5, stop=8.5, ctx=ctx), repeats=grid),\n",
    "                     nd.tile(nd.arange(start=-7.5, stop=8.5, ctx=ctx), reps=grid))\n",
    "    traps = nd.transpose(traps)\n",
    "    traps = traps*ts # traps = nd.multiply(traps, ts) needed for context?\n",
    "    traps = traps.reshape(grid**2, 1, 1, 2)\n",
    "    \n",
    "    # generate the distance matrix\n",
    "    mhomes = nd.random.uniform(low=-fs/2, high=fs/2, shape=(nmice,2), ctx=ctx) # mice x xy\n",
    "    forages = nd.random.normal(loc=0, scale=1, shape=(ndays,nmice,2), ctx=ctx) # day x mice x xy\n",
    "    forages = forages + mhomes\n",
    "    dist = nd.sqrt(nd.sum((traps - forages)**2, axis=3)) # trap x day x mouse\n",
    "    \n",
    "    return dist.asnumpy()"
   ]
  },
  {
   "cell_type": "code",
   "execution_count": null,
   "metadata": {},
   "outputs": [],
   "source": []
  },
  {
   "cell_type": "code",
   "execution_count": null,
   "metadata": {},
   "outputs": [],
   "source": [
    "%%time\n",
    "simimages = torch.empty(numsim,numdays,grid,grid)\n",
    "for sim in torch.arange(numsim):\n",
    "    # generate distance matrix\n",
    "    dist_torch = gendistmat_torch(nmice=int(nummice[sim]), ts=float(trapspacing[sim]), fs=float(fieldsize[sim]))\n",
    "    \n",
    "    # reduce to image\n",
    "    values, indices = dist_torch.min(dim=0)\n",
    "    caught_mice = (values<catchradius[sim]).any(dim=0)\n",
    "    # Torch's argmax returns the last instance of the max value, not the first (like numpy). \n",
    "    # Fortunately our simulations/distances are symmetric in time, so we can we can just look \n",
    "    # reverse the day order and it SHOULD be the same. \n",
    "    caught_days = (values[:,caught_mice]<catchradius[sim]).argmax(dim=0)\n",
    "    # The (3 - day) is to reverse time to keep it consistent with our intuition \n",
    "    idxs = (3 - caught_days)*grid*grid + indices[caught_days,caught_mice]\n",
    "    \n",
    "    # make image\n",
    "    traplayers_torch = torch.zeros(numdays,grid*grid)\n",
    "    traplayers_torch.put_(idxs, torch.tensor([1.]).expand_as(idxs), accumulate=True)\n",
    "    simimages[sim,:,:,:] = traplayers_torch.reshape(numdays, grid, grid)"
   ]
  },
  {
   "cell_type": "code",
   "execution_count": null,
   "metadata": {},
   "outputs": [],
   "source": []
  }
 ],
 "metadata": {
  "kernelspec": {
   "display_name": "Python 3",
   "language": "python",
   "name": "python3"
  },
  "language_info": {
   "codemirror_mode": {
    "name": "ipython",
    "version": 3
   },
   "file_extension": ".py",
   "mimetype": "text/x-python",
   "name": "python",
   "nbconvert_exporter": "python",
   "pygments_lexer": "ipython3",
   "version": "3.6.8"
  }
 },
 "nbformat": 4,
 "nbformat_minor": 2
}
