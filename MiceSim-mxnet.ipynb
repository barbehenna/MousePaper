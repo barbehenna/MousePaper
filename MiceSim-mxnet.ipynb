{
 "cells": [
  {
   "cell_type": "code",
   "execution_count": null,
   "metadata": {},
   "outputs": [],
   "source": [
    "from mxnet import nd\n",
    "import numpy as np\n",
    "import matplotlib.pyplot as plt"
   ]
  },
  {
   "cell_type": "code",
   "execution_count": null,
   "metadata": {},
   "outputs": [],
   "source": [
    "ts = 2\n",
    "cr = 1.1\n",
    "border = 3\n",
    "density = 1000\n",
    "ndays = 4\n",
    "grid = 16 # 8 squares\n",
    "\n",
    "fs = (grid-1)*ts + 2*border\n",
    "nmice = round(fs*fs*density)\n",
    "nmice"
   ]
  },
  {
   "cell_type": "code",
   "execution_count": null,
   "metadata": {},
   "outputs": [],
   "source": [
    "nmice = 8"
   ]
  },
  {
   "cell_type": "code",
   "execution_count": null,
   "metadata": {
    "scrolled": true
   },
   "outputs": [],
   "source": [
    "traps = nd.stack(nd.repeat(nd.arange(start=-7.5, stop=8.5), repeats=grid),\n",
    "                nd.tile(nd.arange(start=-7.5, stop=8.5), reps=grid))\n",
    "traps = nd.transpose(traps)\n",
    "traps = traps*ts # traps = nd.multiply(traps, ts) needed for context?"
   ]
  },
  {
   "cell_type": "code",
   "execution_count": null,
   "metadata": {},
   "outputs": [],
   "source": [
    "mhomes = nd.random.uniform(low=-fs/2, high=fs/2, shape=(nmice,2)) # mice x xy\n",
    "# mhomes"
   ]
  },
  {
   "cell_type": "code",
   "execution_count": null,
   "metadata": {},
   "outputs": [],
   "source": [
    "forages = nd.random.normal(loc=0, scale=1, shape=(ndays,nmice,2)) # day x mice x xy\n",
    "forages.shape\n",
    "# forages"
   ]
  },
  {
   "cell_type": "code",
   "execution_count": null,
   "metadata": {},
   "outputs": [],
   "source": [
    "forages = forages + mhomes\n",
    "# forages"
   ]
  },
  {
   "cell_type": "code",
   "execution_count": null,
   "metadata": {},
   "outputs": [],
   "source": [
    "# mouse 1 \n",
    "forages[:,0,:]"
   ]
  },
  {
   "cell_type": "code",
   "execution_count": null,
   "metadata": {},
   "outputs": [],
   "source": [
    "traps = traps.reshape(grid**2, 1, 1, 2)\n",
    "traps.shape\n",
    "#traps"
   ]
  },
  {
   "cell_type": "code",
   "execution_count": null,
   "metadata": {},
   "outputs": [],
   "source": [
    "dist = nd.sqrt(nd.sum((traps - forages)**2, axis=3)) # trap x day x mouse\n",
    "# dist"
   ]
  },
  {
   "cell_type": "code",
   "execution_count": null,
   "metadata": {},
   "outputs": [],
   "source": [
    "dist"
   ]
  },
  {
   "cell_type": "code",
   "execution_count": null,
   "metadata": {},
   "outputs": [],
   "source": []
  },
  {
   "cell_type": "code",
   "execution_count": null,
   "metadata": {},
   "outputs": [],
   "source": []
  },
  {
   "cell_type": "code",
   "execution_count": null,
   "metadata": {},
   "outputs": [],
   "source": []
  },
  {
   "cell_type": "code",
   "execution_count": null,
   "metadata": {},
   "outputs": [],
   "source": []
  },
  {
   "cell_type": "code",
   "execution_count": null,
   "metadata": {},
   "outputs": [],
   "source": []
  },
  {
   "cell_type": "code",
   "execution_count": null,
   "metadata": {},
   "outputs": [],
   "source": [
    "import torch\n",
    "import matplotlib.pyplot as plt\n",
    "\n",
    "torch.manual_seed(0)"
   ]
  },
  {
   "cell_type": "code",
   "execution_count": null,
   "metadata": {},
   "outputs": [],
   "source": [
    "traps_torch = torch.stack((torch.linspace(-7.5, 7.5, grid).repeat_interleave(grid), \n",
    "                           torch.linspace(-7.5, 7.5, grid).repeat([grid])))\n",
    "traps_torch = traps_torch.t()\n",
    "traps_torch = traps_torch*ts\n",
    "# traps_torch"
   ]
  },
  {
   "cell_type": "code",
   "execution_count": null,
   "metadata": {},
   "outputs": [],
   "source": [
    "mhomes_torch = torch.empty(nmice,2)\n",
    "mhomes_torch.uniform_(-fs/2, fs/2) # inplace rng\n",
    "print(mhomes_torch.shape)\n",
    "forages_torch = torch.normal(mean=torch.zeros(ndays,nmice,2), std=1) \n",
    "print(forages_torch.shape)\n",
    "forages_torch = forages_torch + mhomes_torch\n",
    "print(forages_torch.shape)"
   ]
  },
  {
   "cell_type": "code",
   "execution_count": null,
   "metadata": {},
   "outputs": [],
   "source": [
    "traps_torch = traps_torch.reshape(grid**2, 1, 1, 2)\n",
    "traps_torch.shape"
   ]
  },
  {
   "cell_type": "code",
   "execution_count": null,
   "metadata": {},
   "outputs": [],
   "source": [
    "print((traps_torch - forages_torch).shape)\n",
    "dist_torch = (traps_torch - forages_torch).pow(2).sum(dim=3).sqrt()\n",
    "print(dist_torch.shape)"
   ]
  },
  {
   "cell_type": "code",
   "execution_count": null,
   "metadata": {},
   "outputs": [],
   "source": [
    "values, indices = dist_torch.min(dim=0)\n",
    "# print(values)\n",
    "# print(indices)"
   ]
  },
  {
   "cell_type": "code",
   "execution_count": null,
   "metadata": {},
   "outputs": [],
   "source": [
    "caught_mice = (values<cr).any(dim=0)\n",
    "# caught_mice"
   ]
  },
  {
   "cell_type": "code",
   "execution_count": null,
   "metadata": {},
   "outputs": [],
   "source": [
    "# Torch's argmax returns the last instance of the max value, not the first (like numpy). \n",
    "# Fortunately our simulations/distances are symmetric in time, so we can we can just look \n",
    "# reverse the day order and it SHOULD be the same. \n",
    "caught_days = (values[:,caught_mice]<cr).argmax(dim=0)\n",
    "# caught_days\n",
    "\n",
    "# indices[caught_days,caught_mice]"
   ]
  },
  {
   "cell_type": "code",
   "execution_count": null,
   "metadata": {},
   "outputs": [],
   "source": [
    "# The (3 - day) is to reverse time to keep it consistent with our intuition \n",
    "idxs = (3 - caught_days)*grid*grid + indices[caught_days,caught_mice]\n",
    "idxs"
   ]
  },
  {
   "cell_type": "code",
   "execution_count": null,
   "metadata": {},
   "outputs": [],
   "source": [
    "traplayers_torch = torch.zeros(ndays,grid*grid)\n",
    "traplayers_torch.put_(idxs, torch.tensor([1.]).expand_as(idxs), accumulate=True)\n",
    "traplayers_torch = traplayers_torch.reshape(ndays, grid, grid)"
   ]
  },
  {
   "cell_type": "code",
   "execution_count": null,
   "metadata": {},
   "outputs": [],
   "source": [
    "fig, axes = plt.subplots(2, 2) # row first\n",
    "axes[0,0].imshow(traplayers_torch[0,:,:]) \n",
    "axes[0,1].imshow(traplayers_torch[1,:,:])\n",
    "axes[1,0].imshow(traplayers_torch[2,:,:])\n",
    "axes[1,1].imshow(traplayers_torch[3,:,:])\n",
    "\n",
    "plt.show()"
   ]
  },
  {
   "cell_type": "code",
   "execution_count": null,
   "metadata": {},
   "outputs": [],
   "source": [
    "plt.imshow(traplayers_torch.sum(dim=0))"
   ]
  },
  {
   "cell_type": "code",
   "execution_count": null,
   "metadata": {},
   "outputs": [],
   "source": []
  }
 ],
 "metadata": {
  "kernelspec": {
   "display_name": "Python 3",
   "language": "python",
   "name": "python3"
  },
  "language_info": {
   "codemirror_mode": {
    "name": "ipython",
    "version": 3
   },
   "file_extension": ".py",
   "mimetype": "text/x-python",
   "name": "python",
   "nbconvert_exporter": "python",
   "pygments_lexer": "ipython3",
   "version": "3.7.3"
  }
 },
 "nbformat": 4,
 "nbformat_minor": 2
}
