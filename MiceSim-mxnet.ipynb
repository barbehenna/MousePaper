{
 "cells": [
  {
   "cell_type": "code",
   "execution_count": 1,
   "metadata": {},
   "outputs": [],
   "source": [
    "from mxnet import nd"
   ]
  },
  {
   "cell_type": "code",
   "execution_count": 2,
   "metadata": {},
   "outputs": [],
   "source": [
    "ts = 2\n",
    "cr = 1.25\n",
    "border = 3\n",
    "density = 0.5\n",
    "ndays = 4\n",
    "grid = 16 # 8 squares\n",
    "\n",
    "fs = (grid-1)*ts + 2*border\n",
    "nmice = round(fs*fs*density)"
   ]
  },
  {
   "cell_type": "code",
   "execution_count": 3,
   "metadata": {},
   "outputs": [],
   "source": [
    "nmice = 5"
   ]
  },
  {
   "cell_type": "code",
   "execution_count": 4,
   "metadata": {
    "scrolled": true
   },
   "outputs": [],
   "source": [
    "traps = nd.stack(nd.repeat(nd.arange(start=-7.5, stop=8.5), repeats=grid),\n",
    "                nd.tile(nd.arange(start=-7.5, stop=8.5), reps=grid))\n",
    "traps = nd.transpose(traps)\n",
    "traps = traps*ts # traps = nd.multiply(traps, ts) needed for context?"
   ]
  },
  {
   "cell_type": "code",
   "execution_count": 5,
   "metadata": {},
   "outputs": [
    {
     "data": {
      "text/plain": [
       "\n",
       "[[ 1.7572861  3.3424053]\n",
       " [ 7.7468166 12.393568 ]\n",
       " [ 3.69948   12.886042 ]\n",
       " [ 1.6157951 12.501062 ]\n",
       " [-2.7484274  4.4482937]]\n",
       "<NDArray 5x2 @cpu(0)>"
      ]
     },
     "execution_count": 5,
     "metadata": {},
     "output_type": "execute_result"
    }
   ],
   "source": [
    "mhomes = nd.random.uniform(low=-fs/2, high=fs/2, shape=(nmice,2)) # mice x xy\n",
    "mhomes"
   ]
  },
  {
   "cell_type": "code",
   "execution_count": 6,
   "metadata": {},
   "outputs": [
    {
     "data": {
      "text/plain": [
       "\n",
       "[[[ 1.5580711  -0.5459446 ]\n",
       "  [-2.3556297   0.5414402 ]\n",
       "  [ 2.6785066   1.2546344 ]\n",
       "  [-0.54877394 -0.68106437]\n",
       "  [-0.13531584  0.37723127]]\n",
       "\n",
       " [[ 0.41016445  0.5712682 ]\n",
       "  [-2.7579627   1.07628   ]\n",
       "  [-0.6141326   1.8307649 ]\n",
       "  [-1.1468065   0.05383795]\n",
       "  [-2.5074806  -0.59164983]]\n",
       "\n",
       " [[ 0.8586049  -0.22794184]\n",
       "  [ 0.20131476  0.35005474]\n",
       "  [ 0.5360521   1.5194443 ]\n",
       "  [ 1.9040878  -1.5734432 ]\n",
       "  [-0.14007865  0.29670078]]\n",
       "\n",
       " [[ 1.3111951   0.5035904 ]\n",
       "  [-1.189445   -0.5502137 ]\n",
       "  [-1.5918756  -1.1081946 ]\n",
       "  [ 0.07872018 -0.9185635 ]\n",
       "  [-0.74571455 -1.2080864 ]]]\n",
       "<NDArray 4x5x2 @cpu(0)>"
      ]
     },
     "execution_count": 6,
     "metadata": {},
     "output_type": "execute_result"
    }
   ],
   "source": [
    "forages = nd.random.normal(loc=0, scale=1, shape=(ndays,nmice,2)) # day x mice x xy\n",
    "forages"
   ]
  },
  {
   "cell_type": "code",
   "execution_count": 7,
   "metadata": {},
   "outputs": [
    {
     "data": {
      "text/plain": [
       "\n",
       "[[[ 3.3153572   2.7964606 ]\n",
       "  [ 5.3911867  12.935008  ]\n",
       "  [ 6.377987   14.1406765 ]\n",
       "  [ 1.0670211  11.819998  ]\n",
       "  [-2.8837433   4.825525  ]]\n",
       "\n",
       " [[ 2.1674504   3.9136734 ]\n",
       "  [ 4.988854   13.469848  ]\n",
       "  [ 3.0853474  14.716806  ]\n",
       "  [ 0.46898866 12.5549    ]\n",
       "  [-5.255908    3.856644  ]]\n",
       "\n",
       " [[ 2.615891    3.1144636 ]\n",
       "  [ 7.9481316  12.743623  ]\n",
       "  [ 4.2355323  14.405486  ]\n",
       "  [ 3.519883   10.927619  ]\n",
       "  [-2.888506    4.7449946 ]]\n",
       "\n",
       " [[ 3.0684812   3.8459957 ]\n",
       "  [ 6.5573716  11.843354  ]\n",
       "  [ 2.1076045  11.777847  ]\n",
       "  [ 1.6945153  11.582499  ]\n",
       "  [-3.494142    3.2402072 ]]]\n",
       "<NDArray 4x5x2 @cpu(0)>"
      ]
     },
     "execution_count": 7,
     "metadata": {},
     "output_type": "execute_result"
    }
   ],
   "source": [
    "forages = forages + mhomes\n",
    "forages"
   ]
  },
  {
   "cell_type": "code",
   "execution_count": 8,
   "metadata": {},
   "outputs": [
    {
     "data": {
      "text/plain": [
       "(4, 5, 2)"
      ]
     },
     "execution_count": 8,
     "metadata": {},
     "output_type": "execute_result"
    }
   ],
   "source": [
    "forages.shape"
   ]
  },
  {
   "cell_type": "code",
   "execution_count": 9,
   "metadata": {},
   "outputs": [
    {
     "data": {
      "text/plain": [
       "(256, 2)"
      ]
     },
     "execution_count": 9,
     "metadata": {},
     "output_type": "execute_result"
    }
   ],
   "source": [
    "traps.shape"
   ]
  },
  {
   "cell_type": "code",
   "execution_count": 10,
   "metadata": {},
   "outputs": [
    {
     "data": {
      "text/plain": [
       "(256, 1, 1, 2)"
      ]
     },
     "execution_count": 10,
     "metadata": {},
     "output_type": "execute_result"
    }
   ],
   "source": [
    "traps = traps.reshape(grid**2, 1, 1, 2)\n",
    "traps.shape\n",
    "#traps"
   ]
  },
  {
   "cell_type": "code",
   "execution_count": 11,
   "metadata": {},
   "outputs": [
    {
     "data": {
      "text/plain": [
       "\n",
       "[[[25.537548  34.58562   36.14135   31.26438   23.234781 ]\n",
       "  [25.543068  34.786297  34.787476  31.600035  21.225464 ]\n",
       "  [25.267635  36.004517  35.138134  31.862635  23.163616 ]\n",
       "  [26.108267  34.427982  31.776142  31.390062  21.565943 ]]\n",
       "\n",
       " [[24.186369  32.99129   34.54902   29.566559  21.553492 ]\n",
       "  [24.099663  33.169373  33.095333  29.872105  19.47033  ]\n",
       "  [23.87458   34.486965  33.48233   30.257511  21.484253 ]\n",
       "  [24.703392  32.892437  30.109995  29.715418  19.902992 ]]\n",
       "\n",
       " [[22.930214  31.443363  33.00109   27.908806  19.931154 ]\n",
       "  [22.74069   31.596325  31.43937   28.180187  17.767025 ]\n",
       "  [22.572943  33.020847  31.86604   28.70203   19.864368 ]\n",
       "  [23.38533   31.40922   28.486847  28.083378  18.307602 ]]\n",
       "\n",
       " ...\n",
       "\n",
       " [[14.276867   9.801711   9.176217  13.9570875 18.91963  ]\n",
       "  [14.65914   10.311315  12.480929  14.613966  21.478579 ]\n",
       "  [14.681548   7.264232  11.29031   11.480345  18.950562 ]\n",
       "  [13.911898   8.484647  12.915839  13.318229  20.056114 ]]\n",
       "\n",
       " [[15.512675   9.609034   8.697141  13.982858  19.663425 ]\n",
       "  [15.72373   10.022166  12.037706  14.5378275 22.223925 ]\n",
       "  [15.845819   7.056527  10.855835  11.665669  19.701365 ]\n",
       "  [15.038514   8.521491  12.950193  13.380778  20.911404 ]]\n",
       "\n",
       " [[16.89548    9.828198   8.66473   14.291267  20.575428 ]\n",
       "  [16.958214  10.12741   11.918018  14.7352915 23.118742 ]\n",
       "  [17.164852   7.4040585 10.780872  12.181025  20.619501 ]\n",
       "  [16.333185   9.013456  13.288947  13.737367  21.91634  ]]]\n",
       "<NDArray 256x4x5 @cpu(0)>"
      ]
     },
     "execution_count": 11,
     "metadata": {},
     "output_type": "execute_result"
    }
   ],
   "source": [
    "dist = nd.sqrt(nd.sum((traps - forages)**2, axis=3)) # trap x day x mouse\n",
    "dist"
   ]
  },
  {
   "cell_type": "code",
   "execution_count": null,
   "metadata": {},
   "outputs": [],
   "source": []
  }
 ],
 "metadata": {
  "kernelspec": {
   "display_name": "Python 3",
   "language": "python",
   "name": "python3"
  },
  "language_info": {
   "codemirror_mode": {
    "name": "ipython",
    "version": 3
   },
   "file_extension": ".py",
   "mimetype": "text/x-python",
   "name": "python",
   "nbconvert_exporter": "python",
   "pygments_lexer": "ipython3",
   "version": "3.7.3"
  }
 },
 "nbformat": 4,
 "nbformat_minor": 2
}
