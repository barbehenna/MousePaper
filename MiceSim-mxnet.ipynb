{
 "cells": [
  {
   "cell_type": "code",
   "execution_count": null,
   "metadata": {},
   "outputs": [],
   "source": [
    "from mxnet import nd\n",
    "import numpy as np\n",
    "import matplotlib.pyplot as plt"
   ]
  },
  {
   "cell_type": "code",
   "execution_count": null,
   "metadata": {},
   "outputs": [],
   "source": [
    "ts = 2\n",
    "cr = 1.25\n",
    "border = 3\n",
    "density = 5\n",
    "ndays = 4\n",
    "grid = 16 # 8 squares\n",
    "\n",
    "fs = (grid-1)*ts + 2*border\n",
    "nmice = round(fs*fs*density)\n",
    "nmice"
   ]
  },
  {
   "cell_type": "code",
   "execution_count": null,
   "metadata": {},
   "outputs": [],
   "source": [
    "nmice = 8"
   ]
  },
  {
   "cell_type": "code",
   "execution_count": null,
   "metadata": {
    "scrolled": true
   },
   "outputs": [],
   "source": [
    "traps = nd.stack(nd.repeat(nd.arange(start=-7.5, stop=8.5), repeats=grid),\n",
    "                nd.tile(nd.arange(start=-7.5, stop=8.5), reps=grid))\n",
    "traps = nd.transpose(traps)\n",
    "traps = traps*ts # traps = nd.multiply(traps, ts) needed for context?"
   ]
  },
  {
   "cell_type": "code",
   "execution_count": null,
   "metadata": {},
   "outputs": [],
   "source": [
    "mhomes = nd.random.uniform(low=-fs/2, high=fs/2, shape=(nmice,2)) # mice x xy\n",
    "# mhomes"
   ]
  },
  {
   "cell_type": "code",
   "execution_count": null,
   "metadata": {},
   "outputs": [],
   "source": [
    "forages = nd.random.normal(loc=0, scale=1, shape=(ndays,nmice,2)) # day x mice x xy\n",
    "forages.shape\n",
    "# forages"
   ]
  },
  {
   "cell_type": "code",
   "execution_count": null,
   "metadata": {},
   "outputs": [],
   "source": [
    "forages = forages + mhomes\n",
    "# forages"
   ]
  },
  {
   "cell_type": "code",
   "execution_count": null,
   "metadata": {},
   "outputs": [],
   "source": [
    "# mouse 1 \n",
    "forages[:,0,:]"
   ]
  },
  {
   "cell_type": "code",
   "execution_count": null,
   "metadata": {},
   "outputs": [],
   "source": [
    "traps = traps.reshape(grid**2, 1, 1, 2)\n",
    "traps.shape\n",
    "#traps"
   ]
  },
  {
   "cell_type": "code",
   "execution_count": null,
   "metadata": {},
   "outputs": [],
   "source": [
    "dist = nd.sqrt(nd.sum((traps - forages)**2, axis=3)) # trap x day x mouse\n",
    "# dist"
   ]
  },
  {
   "cell_type": "code",
   "execution_count": null,
   "metadata": {},
   "outputs": [],
   "source": []
  },
  {
   "cell_type": "code",
   "execution_count": null,
   "metadata": {},
   "outputs": [],
   "source": []
  },
  {
   "cell_type": "code",
   "execution_count": null,
   "metadata": {},
   "outputs": [],
   "source": []
  },
  {
   "cell_type": "code",
   "execution_count": null,
   "metadata": {
    "scrolled": true
   },
   "outputs": [],
   "source": [
    "d2 = dist.asnumpy()\n",
    "d2.shape"
   ]
  },
  {
   "cell_type": "code",
   "execution_count": null,
   "metadata": {},
   "outputs": [],
   "source": [
    "dropped = d2[:,:,(d2<cr).sum(axis=(0,1))>0] # drop mice that were NOT caught\n",
    "dropped.shape"
   ]
  },
  {
   "cell_type": "code",
   "execution_count": null,
   "metadata": {},
   "outputs": [],
   "source": [
    "days = ((dropped<cr).sum(axis=0)>0).argmax(axis=0)\n",
    "traps = dropped.argmin(axis=0)[days, np.arange(days.shape[0])]"
   ]
  },
  {
   "cell_type": "code",
   "execution_count": null,
   "metadata": {},
   "outputs": [],
   "source": [
    "traplayers = np.zeros((4,256))\n",
    "np.add.at(traplayers, (days,traps), 1)\n",
    "traplayers = traplayers.reshape((4,16,16))"
   ]
  },
  {
   "cell_type": "code",
   "execution_count": null,
   "metadata": {},
   "outputs": [],
   "source": [
    "fig, axes = plt.subplots(2, 2) # row first\n",
    "axes[0,0].imshow(traplayers[0,:,:]) \n",
    "axes[0,1].imshow(traplayers[1,:,:])\n",
    "axes[1,0].imshow(traplayers[2,:,:])\n",
    "axes[1,1].imshow(traplayers[3,:,:])\n",
    "\n",
    "plt.show()"
   ]
  },
  {
   "cell_type": "code",
   "execution_count": null,
   "metadata": {},
   "outputs": [],
   "source": []
  },
  {
   "cell_type": "code",
   "execution_count": null,
   "metadata": {},
   "outputs": [],
   "source": []
  },
  {
   "cell_type": "code",
   "execution_count": null,
   "metadata": {},
   "outputs": [],
   "source": []
  }
 ],
 "metadata": {
  "kernelspec": {
   "display_name": "Python 3",
   "language": "python",
   "name": "python3"
  },
  "language_info": {
   "codemirror_mode": {
    "name": "ipython",
    "version": 3
   },
   "file_extension": ".py",
   "mimetype": "text/x-python",
   "name": "python",
   "nbconvert_exporter": "python",
   "pygments_lexer": "ipython3",
   "version": "3.7.3"
  }
 },
 "nbformat": 4,
 "nbformat_minor": 2
}
